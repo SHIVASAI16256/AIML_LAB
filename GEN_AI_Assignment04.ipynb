{
  "nbformat": 4,
  "nbformat_minor": 0,
  "metadata": {
    "colab": {
      "provenance": [],
      "include_colab_link": true
    },
    "kernelspec": {
      "name": "python3",
      "display_name": "Python 3"
    },
    "language_info": {
      "name": "python"
    }
  },
  "cells": [
    {
      "cell_type": "markdown",
      "metadata": {
        "id": "view-in-github",
        "colab_type": "text"
      },
      "source": [
        "<a href=\"https://colab.research.google.com/github/SHIVASAI16256/AIML_LAB/blob/main/GEN_AI_Assignment04.ipynb\" target=\"_parent\"><img src=\"https://colab.research.google.com/assets/colab-badge.svg\" alt=\"Open In Colab\"/></a>"
      ]
    },
    {
      "cell_type": "code",
      "execution_count": 3,
      "metadata": {
        "id": "tD3LeO6lCsGa",
        "colab": {
          "base_uri": "https://localhost:8080/"
        },
        "outputId": "b248351d-672b-4447-ee01-5fa9338bf8d9"
      },
      "outputs": [
        {
          "output_type": "stream",
          "name": "stdout",
          "text": [
            "Enter three values separated by commas (x1,x2,x3): 0.1,0.2,0.3\n",
            "Predicted Output: 0.13151675208481248\n",
            "Training Loss: 4.116414129990821e-05, Testing Loss: 2.1736795326392923e-05\n"
          ]
        }
      ],
      "source": [
        "import numpy as np\n",
        "\n",
        "\n",
        "X_train = np.array([[0.1, 0.2, 0.3],\n",
        "                    [0.2, 0.3, 0.4],\n",
        "                    [0.3, 0.4, 0.5],\n",
        "                    [0.5, 0.6, 0.7],\n",
        "                    [0.1, 0.3, 0.5],\n",
        "                    [0.2, 0.4, 0.6],\n",
        "                    [0.3, 0.5, 0.7],\n",
        "                    [0.4, 0.6, 0.8],\n",
        "                    [0.5, 0.7, 0.1]])\n",
        "y_train = np.array([[0.14], [0.20], [0.26], [0.38],\n",
        "                    [0.22], [0.28], [0.34], [0.40],\n",
        "                    [0.22]])\n",
        "\n",
        "\n",
        "weights = np.random.rand(3, 1)\n",
        "bias = np.random.rand(1)\n",
        "learning_rate = 0.01\n",
        "\n",
        "\n",
        "for epoch in range(10000):\n",
        "\n",
        "    y_pred = X_train.dot(weights) + bias\n",
        "\n",
        "    loss = np.mean((y_pred - y_train) ** 2)\n",
        "\n",
        "    d_loss = (y_pred - y_train) / y_train.size\n",
        "    weights_grad = X_train.T.dot(d_loss)\n",
        "    bias_grad = np.sum(d_loss)\n",
        "\n",
        "    weights -= learning_rate * weights_grad\n",
        "    bias -= learning_rate * bias_grad\n",
        "\n",
        "\n",
        "X_test = np.array([[0.6, 0.7, 0.8],\n",
        "                   [0.7, 0.8, 0.9]])\n",
        "y_test = np.array([[0.44], [0.50]])\n",
        "\n",
        "y_test_pred = X_test.dot(weights) + bias\n",
        "test_loss = np.mean((y_test_pred - y_test) ** 2)\n",
        "\n",
        "\n",
        "x_input = input(\"Enter three values separated by commas (x1,x2,x3): \")\n",
        "x_input_array = np.array([float(i) for i in x_input.split(',')]).reshape(1, -1)\n",
        "prediction = x_input_array.dot(weights) + bias\n",
        "\n",
        "print(f\"Predicted Output: {prediction[0][0]}\")\n",
        "print(f\"Training Loss: {loss}, Testing Loss: {test_loss}\")\n"
      ]
    },
    {
      "cell_type": "code",
      "source": [
        "import numpy as np\n",
        "\n",
        "\n",
        "X_train = np.array([[0.1, 0.2, 0.3],\n",
        "                    [0.2, 0.3, 0.4],\n",
        "                    [0.3, 0.4, 0.5],\n",
        "                    [0.5, 0.6, 0.7],\n",
        "                    [0.1, 0.3, 0.5],\n",
        "                    [0.2, 0.4, 0.6],\n",
        "                    [0.3, 0.5, 0.7],\n",
        "                    [0.4, 0.6, 0.8],\n",
        "                    [0.5, 0.7, 0.1]])\n",
        "y_train = np.array([[0.5349], [0.5498], [0.5646], [0.5939],\n",
        "                    [0.5548], [0.5695], [0.5842], [0.5987],\n",
        "                    [0.5548]])\n",
        "\n",
        "\n",
        "weights = np.random.rand(3, 1)\n",
        "bias = np.random.rand(1)\n",
        "learning_rate = 0.01\n",
        "\n",
        "def sigmoid(x):\n",
        "    return 1 / (1 + np.exp(-x))\n",
        "\n",
        "def sigmoid_derivative(x):\n",
        "    return x * (1 - x)\n",
        "\n",
        "\n",
        "for epoch in range(10000):\n",
        "\n",
        "    z = X_train.dot(weights) + bias\n",
        "    y_pred = sigmoid(z)\n",
        "\n",
        "    loss = np.mean((y_pred - y_train) ** 2)\n",
        "\n",
        "    d_loss = (y_pred - y_train) / y_train.size\n",
        "    d_sigmoid = sigmoid_derivative(y_pred)\n",
        "    weights_grad = X_train.T.dot(d_loss * d_sigmoid)\n",
        "    bias_grad = np.sum(d_loss * d_sigmoid)\n",
        "\n",
        "    weights -= learning_rate * weights_grad\n",
        "    bias -= learning_rate * bias_grad\n",
        "\n",
        "\n",
        "X_test = np.array([[0.6, 0.7, 0.8],\n",
        "                   [0.7, 0.8, 0.9]])\n",
        "y_test = np.array([[0.6083], [0.6225]])\n",
        "\n",
        "\n",
        "z_test = X_test.dot(weights) + bias\n",
        "y_test_pred = sigmoid(z_test)\n",
        "test_loss = np.mean((y_test_pred - y_test) ** 2)\n",
        "\n",
        "\n",
        "x_input = input(\"Enter three values separated by commas (x1,x2,x3): \")\n",
        "x_input_array = np.array([float(i) for i in x_input.split(',')]).reshape(1, -1)\n",
        "prediction = sigmoid(x_input_array.dot(weights) + bias)\n",
        "\n",
        "print(f\"Predicted Output: {prediction[0][0]}\")\n",
        "print(f\"Training Loss: {loss}, Testing Loss: {test_loss}\")\n"
      ],
      "metadata": {
        "colab": {
          "base_uri": "https://localhost:8080/"
        },
        "id": "wcr_8d_0FNcb",
        "outputId": "5c64882a-b6a9-4c80-94fe-65da235479b0"
      },
      "execution_count": 4,
      "outputs": [
        {
          "output_type": "stream",
          "name": "stdout",
          "text": [
            "Enter three values separated by commas (x1,x2,x3): 0.1,0.2,0.3\n",
            "Predicted Output: 0.543108500774123\n",
            "Training Loss: 3.2313184027965135e-05, Testing Loss: 2.3257175679296004e-06\n"
          ]
        }
      ]
    }
  ]
}